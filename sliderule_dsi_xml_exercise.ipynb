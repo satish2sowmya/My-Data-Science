{
 "cells": [
  {
   "cell_type": "markdown",
   "metadata": {},
   "source": [
    "# XML example and exercise\n",
    "****\n",
    "+ study examples of accessing nodes in XML tree structure  \n",
    "+ work on exercise to be completed and submitted\n",
    "****\n",
    "+ reference: https://docs.python.org/2.7/library/xml.etree.elementtree.html\n",
    "+ data source: http://www.dbis.informatik.uni-goettingen.de/Mondial\n",
    "****"
   ]
  },
  {
   "cell_type": "code",
   "execution_count": 2,
   "metadata": {
    "collapsed": true
   },
   "outputs": [],
   "source": [
    "from xml.etree import ElementTree as ET"
   ]
  },
  {
   "cell_type": "markdown",
   "metadata": {},
   "source": [
    "## XML example\n",
    "\n",
    "+ for details about tree traversal and iterators, see https://docs.python.org/2.7/library/xml.etree.elementtree.html"
   ]
  },
  {
   "cell_type": "code",
   "execution_count": 3,
   "metadata": {
    "collapsed": false
   },
   "outputs": [],
   "source": [
    "document_tree = ET.parse( '/Users/sowmyamoka/Satish_Python/data_wrangling_xml/data/mondial_database_less.xml' )"
   ]
  },
  {
   "cell_type": "code",
   "execution_count": 4,
   "metadata": {
    "collapsed": false
   },
   "outputs": [
    {
     "name": "stdout",
     "output_type": "stream",
     "text": [
      "Albania\n",
      "Greece\n",
      "Macedonia\n",
      "Serbia\n",
      "Montenegro\n",
      "Kosovo\n",
      "Andorra\n"
     ]
    }
   ],
   "source": [
    "# print names of all countries\n",
    "for child in document_tree.getroot():\n",
    "    print (child.find('name').text)"
   ]
  },
  {
   "cell_type": "code",
   "execution_count": 6,
   "metadata": {
    "collapsed": false
   },
   "outputs": [
    {
     "name": "stdout",
     "output_type": "stream",
     "text": [
      "* Albania:\n",
      "Tirana, Shkodër, Durrës, Vlorë, Elbasan, Korçë\n",
      "* Greece:\n",
      "Komotini, Kavala, Athina, Peiraias, Peristeri, Acharnes, Patra, Kozani, Kerkyra, Ioannina, Thessaloniki, Iraklio, Chania, Ermoupoli, Rhodes, Tripoli, Lamia, Chalkida, Larissa, Volos, Mytilini, Karyes\n",
      "* Macedonia:\n",
      "Skopje, Kumanovo\n",
      "* Serbia:\n",
      "Beograd, Novi Sad, Niš\n",
      "* Montenegro:\n",
      "Podgorica\n",
      "* Kosovo:\n",
      "Prishtine\n",
      "* Andorra:\n",
      "Andorra la Vella\n"
     ]
    }
   ],
   "source": [
    "# print names of all countries and their cities\n",
    "for element in document_tree.iterfind('country'):\n",
    "    print ('* ' + element.find('name').text + ':',)\n",
    "    capitals_string = ''\n",
    "    for subelement in element.getiterator('city'):\n",
    "        capitals_string += subelement.find('name').text + ', '\n",
    "    print( capitals_string[:-2])"
   ]
  },
  {
   "cell_type": "markdown",
   "metadata": {},
   "source": [
    "****\n",
    "## XML exercise\n",
    "\n",
    "Using data in 'data/mondial_database.xml', the examples above, and refering to https://docs.python.org/2.7/library/xml.etree.elementtree.html, find\n",
    "\n",
    "1. 10 countries with the lowest infant mortality rates\n",
    "2. 10 cities with the largest population\n",
    "3. 10 ethnic groups with the largest overall populations (sum of best/latest estimates over all countries)\n",
    "4. name and country of a) longest river, b) largest lake and c) airport at highest elevation"
   ]
  },
  {
   "cell_type": "code",
   "execution_count": 7,
   "metadata": {
    "collapsed": true
   },
   "outputs": [],
   "source": [
    "document = ET.parse( '/Users/sowmyamoka/Satish_Python/data_wrangling_xml/data/mondial_database.xml' )"
   ]
  },
  {
   "cell_type": "code",
   "execution_count": 8,
   "metadata": {
    "collapsed": true
   },
   "outputs": [],
   "source": [
    "root2=document.getroot()"
   ]
  },
  {
   "cell_type": "code",
   "execution_count": 54,
   "metadata": {
    "collapsed": false
   },
   "outputs": [
    {
     "data": {
      "text/html": [
       "<div>\n",
       "<table border=\"1\" class=\"dataframe\">\n",
       "  <thead>\n",
       "    <tr style=\"text-align: right;\">\n",
       "      <th></th>\n",
       "      <th>country</th>\n",
       "      <th>inmr_numeric</th>\n",
       "    </tr>\n",
       "  </thead>\n",
       "  <tbody>\n",
       "    <tr>\n",
       "      <th>38</th>\n",
       "      <td>Monaco</td>\n",
       "      <td>1.81</td>\n",
       "    </tr>\n",
       "    <tr>\n",
       "      <th>92</th>\n",
       "      <td>Japan</td>\n",
       "      <td>2.13</td>\n",
       "    </tr>\n",
       "    <tr>\n",
       "      <th>36</th>\n",
       "      <td>Norway</td>\n",
       "      <td>2.48</td>\n",
       "    </tr>\n",
       "    <tr>\n",
       "      <th>111</th>\n",
       "      <td>Bermuda</td>\n",
       "      <td>2.48</td>\n",
       "    </tr>\n",
       "    <tr>\n",
       "      <th>100</th>\n",
       "      <td>Singapore</td>\n",
       "      <td>2.53</td>\n",
       "    </tr>\n",
       "    <tr>\n",
       "      <th>37</th>\n",
       "      <td>Sweden</td>\n",
       "      <td>2.60</td>\n",
       "    </tr>\n",
       "    <tr>\n",
       "      <th>10</th>\n",
       "      <td>Czech Republic</td>\n",
       "      <td>2.63</td>\n",
       "    </tr>\n",
       "    <tr>\n",
       "      <th>74</th>\n",
       "      <td>Hong Kong</td>\n",
       "      <td>2.73</td>\n",
       "    </tr>\n",
       "    <tr>\n",
       "      <th>0</th>\n",
       "      <td>1</td>\n",
       "      <td>3.00</td>\n",
       "    </tr>\n",
       "    <tr>\n",
       "      <th>75</th>\n",
       "      <td>Macao</td>\n",
       "      <td>3.13</td>\n",
       "    </tr>\n",
       "  </tbody>\n",
       "</table>\n",
       "</div>"
      ],
      "text/plain": [
       "            country  inmr_numeric\n",
       "38           Monaco          1.81\n",
       "92            Japan          2.13\n",
       "36           Norway          2.48\n",
       "111         Bermuda          2.48\n",
       "100       Singapore          2.53\n",
       "37           Sweden          2.60\n",
       "10   Czech Republic          2.63\n",
       "74        Hong Kong          2.73\n",
       "0                 1          3.00\n",
       "75            Macao          3.13"
      ]
     },
     "execution_count": 54,
     "metadata": {},
     "output_type": "execute_result"
    }
   ],
   "source": [
    "import pandas as pd\n",
    "list_country=[1,2]\n",
    "list_inmr=[3,4]\n",
    "for country in root2.findall('country'):\n",
    "    \n",
    "   if((country.find('infant_mortality')==None)|(country.find('name')==None)) :  \n",
    "       continue\n",
    "   else :\n",
    "        country_name = country.find('name').text\n",
    "        inmrt = country.find('infant_mortality').text\n",
    "        list_country.append(country_name)\n",
    "        list_inmr.append(inmrt)\n",
    "dic_inmr={'country':list_country,'inmr':list_inmr}        \n",
    "df=pd.DataFrame(dic_inmr)\n",
    "df['inmr_numeric']=pd.to_numeric(df.inmr)\n",
    "del df['inmr']\n",
    "df.sort_values(by='inmr_numeric',ascending=True).head(10)\n",
    "\n"
   ]
  },
  {
   "cell_type": "code",
   "execution_count": 177,
   "metadata": {
    "collapsed": false,
    "scrolled": true
   },
   "outputs": [
    {
     "data": {
      "text/html": [
       "<div>\n",
       "<table border=\"1\" class=\"dataframe\">\n",
       "  <thead>\n",
       "    <tr style=\"text-align: right;\">\n",
       "      <th></th>\n",
       "      <th>city</th>\n",
       "      <th>population</th>\n",
       "      <th>year</th>\n",
       "    </tr>\n",
       "  </thead>\n",
       "  <tbody>\n",
       "    <tr>\n",
       "      <th>3750</th>\n",
       "      <td>Shanghai</td>\n",
       "      <td>22315474</td>\n",
       "      <td>2010</td>\n",
       "    </tr>\n",
       "    <tr>\n",
       "      <th>2607</th>\n",
       "      <td>Istanbul</td>\n",
       "      <td>13710512</td>\n",
       "      <td>2012</td>\n",
       "    </tr>\n",
       "    <tr>\n",
       "      <th>4303</th>\n",
       "      <td>Mumbai</td>\n",
       "      <td>12442373</td>\n",
       "      <td>2011</td>\n",
       "    </tr>\n",
       "    <tr>\n",
       "      <th>1546</th>\n",
       "      <td>Moskva</td>\n",
       "      <td>11979529</td>\n",
       "      <td>2013</td>\n",
       "    </tr>\n",
       "    <tr>\n",
       "      <th>3746</th>\n",
       "      <td>Beijing</td>\n",
       "      <td>11716620</td>\n",
       "      <td>2010</td>\n",
       "    </tr>\n",
       "    <tr>\n",
       "      <th>8208</th>\n",
       "      <td>São Paulo</td>\n",
       "      <td>11152344</td>\n",
       "      <td>2010</td>\n",
       "    </tr>\n",
       "    <tr>\n",
       "      <th>3754</th>\n",
       "      <td>Tianjin</td>\n",
       "      <td>11090314</td>\n",
       "      <td>2010</td>\n",
       "    </tr>\n",
       "    <tr>\n",
       "      <th>3364</th>\n",
       "      <td>Guangzhou</td>\n",
       "      <td>11071424</td>\n",
       "      <td>2010</td>\n",
       "    </tr>\n",
       "    <tr>\n",
       "      <th>4399</th>\n",
       "      <td>Delhi</td>\n",
       "      <td>11034555</td>\n",
       "      <td>2011</td>\n",
       "    </tr>\n",
       "    <tr>\n",
       "      <th>3371</th>\n",
       "      <td>Shenzhen</td>\n",
       "      <td>10358381</td>\n",
       "      <td>2010</td>\n",
       "    </tr>\n",
       "  </tbody>\n",
       "</table>\n",
       "</div>"
      ],
      "text/plain": [
       "           city  population  year\n",
       "3750   Shanghai    22315474  2010\n",
       "2607   Istanbul    13710512  2012\n",
       "4303     Mumbai    12442373  2011\n",
       "1546     Moskva    11979529  2013\n",
       "3746    Beijing    11716620  2010\n",
       "8208  São Paulo    11152344  2010\n",
       "3754    Tianjin    11090314  2010\n",
       "3364  Guangzhou    11071424  2010\n",
       "4399      Delhi    11034555  2011\n",
       "3371   Shenzhen    10358381  2010"
      ]
     },
     "execution_count": 177,
     "metadata": {},
     "output_type": "execute_result"
    }
   ],
   "source": [
    "import pandas as pd\n",
    "list_city_name=[]\n",
    "list_year=[]\n",
    "list_population=[]\n",
    "for city in root2.iter('city'):\n",
    "    if((city.find('name')==None)|(city.find('population')==None)):  \n",
    "        continue        \n",
    "    else :\n",
    "        city_name = city.find('name').text\n",
    "        for pop in city.findall('population'):\n",
    "             year= pop.get('year')\n",
    "             population=pop.text             \n",
    "             list_city_name.append(city_name)\n",
    "             list_year.append(year)\n",
    "             list_population.append(population)   \n",
    "    \n",
    "dic={'city':list_city_name,'year':list_year,'population':list_population}\n",
    "df=pd.DataFrame(dic)\n",
    "df['population']=pd.to_numeric(df['population'])\n",
    "df['year']=pd.to_numeric(df['year'])\n",
    "df.head(10)\n",
    "df=df.ix[df.groupby('city')['year'].idxmax]\n",
    "df.sort_values('population',ascending=False).head(10)"
   ]
  },
  {
   "cell_type": "code",
   "execution_count": 197,
   "metadata": {
    "collapsed": false,
    "scrolled": false
   },
   "outputs": [
    {
     "data": {
      "text/plain": [
       "ethnicity\n",
       "Han Chinese    1360720000\n",
       "Mongol         1213609662\n",
       "Dravidian      1210854977\n",
       "Indo-Aryan     1210854977\n",
       "European       1157295639\n",
       "African         975352746\n",
       "Amerindian      588752467\n",
       "Malay           377500275\n",
       "Asian           374650120\n",
       "Russian         322438406\n",
       "Name: population, dtype: int64"
      ]
     },
     "execution_count": 197,
     "metadata": {},
     "output_type": "execute_result"
    }
   ],
   "source": [
    "import pandas as pd\n",
    "\n",
    "list_year=[]\n",
    "list_population=[]\n",
    "list_ethnicity=[]\n",
    "list_ethnicity_per=[]\n",
    "list_country=[]\n",
    "for country in root2.findall('country'):\n",
    "    for pop in country.findall('population'):\n",
    "        \n",
    "        for ethnic in country.findall('ethnicgroup'):\n",
    "            year= pop.get('year')\n",
    "            name=country.find('name').text\n",
    "            population=pop.text\n",
    "            ethnicity=ethnic.text\n",
    "            ethnicity_per=ethnic.get('percentage')\n",
    "            list_year.append(year)\n",
    "            list_population.append(population)\n",
    "            list_ethnicity.append(ethnicity)\n",
    "            list_ethnicity_per.append(ethnicity_per)\n",
    "            list_country.append(name)\n",
    "            \n",
    "dic_enthnicity={'country':list_country,'ethnicity':list_ethnicity,'ethnicity_per':list_ethnicity_per}           \n",
    "dic_country={'country':list_country,'year':list_year, 'population':list_population }     \n",
    "df1=pd.DataFrame(dic_enthnicity)\n",
    "df2=pd.DataFrame(dic_country)\n",
    "df1['ethnicity_per']=pd.to_numeric(df['ethnicity_per'])\n",
    "df2['population']=pd.to_numeric(df2['population'])\n",
    "df2['year']=pd.to_numeric(df2['year'])\n",
    "df1=df1.drop_duplicates()\n",
    "df2=df2.drop_duplicates()\n",
    "df2=df2.ix[df2.groupby('country')['year'].idxmax]\n",
    "df3=df1.merge(df2)\n",
    "df3=df3[['ethnicity','population']]\n",
    "df3.groupby('ethnicity').population.sum().sort_values(ascending=False).head(10)\n",
    "\n",
    "\n"
   ]
  },
  {
   "cell_type": "code",
   "execution_count": 155,
   "metadata": {
    "collapsed": true
   },
   "outputs": [
    {
     "data": {
      "text/html": [
       "<div>\n",
       "<table border=\"1\" class=\"dataframe\">\n",
       "  <thead>\n",
       "    <tr style=\"text-align: right;\">\n",
       "      <th></th>\n",
       "      <th>country</th>\n",
       "      <th>name</th>\n",
       "      <th>parameter</th>\n",
       "      <th>group</th>\n",
       "    </tr>\n",
       "  </thead>\n",
       "  <tbody>\n",
       "    <tr>\n",
       "      <th>452</th>\n",
       "      <td>BOL</td>\n",
       "      <td>El Alto Intl</td>\n",
       "      <td>4063.0</td>\n",
       "      <td>airport</td>\n",
       "    </tr>\n",
       "    <tr>\n",
       "      <th>287</th>\n",
       "      <td>R AZ KAZ IR TM</td>\n",
       "      <td>Caspian Sea</td>\n",
       "      <td>386400.0</td>\n",
       "      <td>lake</td>\n",
       "    </tr>\n",
       "    <tr>\n",
       "      <th>174</th>\n",
       "      <td>CO BR PE</td>\n",
       "      <td>Amazonas</td>\n",
       "      <td>6448.0</td>\n",
       "      <td>river</td>\n",
       "    </tr>\n",
       "  </tbody>\n",
       "</table>\n",
       "</div>"
      ],
      "text/plain": [
       "            country          name  parameter    group\n",
       "452             BOL  El Alto Intl     4063.0  airport\n",
       "287  R AZ KAZ IR TM   Caspian Sea   386400.0     lake\n",
       "174        CO BR PE      Amazonas     6448.0    river"
      ]
     },
     "execution_count": 155,
     "metadata": {},
     "output_type": "execute_result"
    }
   ],
   "source": [
    "river_name_list=[]\n",
    "river_length_list=[]\n",
    "river_country_list=[]\n",
    "lake_name_list=[]\n",
    "lake_area_list=[]\n",
    "lake_country_list=[]\n",
    "airport_name_list=[]\n",
    "airport_elevation_list=[]\n",
    "airport_country_list=[]\n",
    "import pandas as pd\n",
    "for river in root2.findall('river'):\n",
    "      if((river.find('name')==None)|(river.find('length')==None)|(river.get('country')==None)):  \n",
    "        continue  \n",
    "    \n",
    "      else:\n",
    "        river.find('name')\n",
    "        river.find('length')\n",
    "        river.get('country')\n",
    "        river_name= river.find('name').text\n",
    "        river_length=river.find('length').text \n",
    "        river_country=river.get('country')\n",
    "        river_length_list.append(river_length)  \n",
    "        river_name_list.append(river_name)\n",
    "        river_country_list.append(river_country)\n",
    "for lake in root2.findall('lake'):\n",
    "      if((lake.find('name')==None)|(lake.find('area')==None)|(lake.get('country')==None)):  \n",
    "        continue  \n",
    "    \n",
    "      else:\n",
    "        lake.find('name')\n",
    "        lake.find('area')\n",
    "        lake.get('country')\n",
    "        lake_name= lake.find('name').text\n",
    "        lake_area=lake.find('area').text \n",
    "        lake_country=lake.get('country')\n",
    "        lake_area_list.append(lake_area)  \n",
    "        lake_name_list.append(lake_name)\n",
    "        lake_country_list.append(lake_country)\n",
    "        \n",
    "for airport in root2.findall('airport'):\n",
    "      if((airport.find('name')==None)|(airport.find('elevation')==None)|(airport.get('country')==None)):  \n",
    "        continue  \n",
    "    \n",
    "      else:\n",
    "        airport.find('name')\n",
    "        airport.find('area')\n",
    "        airport.get('country')\n",
    "        airport_name= airport.find('name').text\n",
    "        airport_elevation=airport.find('elevation').text \n",
    "        airport_country=airport.get('country')\n",
    "        airport_elevation_list.append(airport_elevation)  \n",
    "        airport_name_list.append(airport_name)\n",
    "        airport_country_list.append(airport_country)\n",
    "        \n",
    "data_river=pd.DataFrame({'name':river_name_list,'parameter':river_length_list,'country':river_country_list})\n",
    "data_river['group']='river'\n",
    "data_lake=pd.DataFrame({'name':lake_name_list,'parameter':lake_area_list,'country':lake_country_list})\n",
    "data_lake['group']='lake'\n",
    "data_airport=pd.DataFrame({'name':airport_name_list,'parameter':airport_elevation_list,'country':airport_country_list})\n",
    "data_airport['group']='airport'\n",
    "data_aggregate=pd.concat([data_river,data_lake,data_airport],ignore_index=True)\n",
    "data_aggregate['parameter']=pd.to_numeric(data_aggregate['parameter'])\n",
    "data_aggregate.groupby('group')['parameter'].idxmax\n",
    "data_aggregate=data_aggregate.ix[data_aggregate.groupby('group')['parameter'].idxmax]\n",
    "data_aggregate"
   ]
  },
  {
   "cell_type": "code",
   "execution_count": null,
   "metadata": {
    "collapsed": true
   },
   "outputs": [],
   "source": []
  },
  {
   "cell_type": "code",
   "execution_count": null,
   "metadata": {
    "collapsed": true
   },
   "outputs": [],
   "source": []
  }
 ],
 "metadata": {
  "anaconda-cloud": {},
  "kernelspec": {
   "display_name": "Python [Root]",
   "language": "python",
   "name": "Python [Root]"
  },
  "language_info": {
   "codemirror_mode": {
    "name": "ipython",
    "version": 3
   },
   "file_extension": ".py",
   "mimetype": "text/x-python",
   "name": "python",
   "nbconvert_exporter": "python",
   "pygments_lexer": "ipython3",
   "version": "3.5.2"
  }
 },
 "nbformat": 4,
 "nbformat_minor": 0
}
